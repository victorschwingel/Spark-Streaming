{
 "cells": [
  {
   "cell_type": "code",
   "execution_count": null,
   "metadata": {},
   "outputs": [],
   "source": [
    "import nltk\n",
    "nltk.download('stopwords')\n",
    "from nltk.corpus import stopwords"
   ]
  },
  {
   "cell_type": "code",
   "execution_count": null,
   "metadata": {},
   "outputs": [],
   "source": [
    "from wordcloud import WordCloud\n",
    "import matplotlib.pyplot as plt\n",
    "from IPython import display\n",
    "import time"
   ]
  },
  {
   "cell_type": "code",
   "execution_count": null,
   "metadata": {},
   "outputs": [],
   "source": [
    "from pyspark.sql import SparkSession\n",
    "from pyspark.sql import functions as f\n",
    "\n",
    "spark = SparkSession.builder\\\n",
    "    .master('local[*]')\\\n",
    "    .appName('WordCloud')\\\n",
    "    .getOrCreate()"
   ]
  },
  {
   "cell_type": "code",
   "execution_count": null,
   "metadata": {},
   "outputs": [],
   "source": [
    "import regex\n",
    "\n",
    "\n",
    "def trata_tweets(df):\n",
    "    words = df\\\n",
    "        .select(f.explode(f.split(f.lower('_c0'), ' ')).alias('word'))\\\n",
    "        .withColumn('word', f.regexp_replace('word', r'http\\S+', ''))\\\n",
    "        .withColumn('word', f.regexp_replace('word', r'@\\w+', ''))\\\n",
    "        .withColumn('word', f.regexp_replace('word', 'rt', ''))\\\n",
    "        .na.replace('', None)\\\n",
    "        .na.drop()\n",
    "    return words"
   ]
  },
  {
   "cell_type": "code",
   "execution_count": null,
   "metadata": {},
   "outputs": [],
   "source": [
    "import wordcloud\n",
    "\n",
    "\n",
    "stops = stopwords.words('portuguese')\n",
    "stops.append('domingo')\n",
    "plt.figure(figsize=(20,10))\n",
    "\n",
    "while True:\n",
    "    try:\n",
    "        words = spark.read.csv('./csv', encoding='utf-8')\n",
    "        words = trata_tweets(words)\n",
    "        rows = words.collect()\n",
    "        all_words = ''\n",
    "        for row in rows:\n",
    "            all_words = all_words + ' ' + row['word']\n",
    "        \n",
    "        wordcloud = WordCloud(stopwords=stops,\\\n",
    "                            background_color='black',\\\n",
    "                            width=1920,\\\n",
    "                            height=1080,\\\n",
    "                            max_words=100).generate(all_words)\n",
    "\n",
    "        plt.cla()\n",
    "        plt.axis('off')\n",
    "        plt.imshow(wordcloud)\n",
    "        display.display(plt.gcf())\n",
    "        display.clear_output(wait=True)\n",
    "        time.sleep(5)\n",
    "    except KeyboardInterrupt:\n",
    "        break"
   ]
  }
 ],
 "metadata": {
  "kernelspec": {
   "display_name": "Python 3.8.10 64-bit",
   "language": "python",
   "name": "python3"
  },
  "language_info": {
   "codemirror_mode": {
    "name": "ipython",
    "version": 3
   },
   "file_extension": ".py",
   "mimetype": "text/x-python",
   "name": "python",
   "nbconvert_exporter": "python",
   "pygments_lexer": "ipython3",
   "version": "3.8.10"
  },
  "orig_nbformat": 4,
  "vscode": {
   "interpreter": {
    "hash": "df0893f56f349688326838aaeea0de204df53a132722cbd565e54b24a8fec5f6"
   }
  }
 },
 "nbformat": 4,
 "nbformat_minor": 2
}
